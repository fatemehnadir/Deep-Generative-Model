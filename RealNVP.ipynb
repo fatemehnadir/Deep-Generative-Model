{
  "cells": [
    {
      "cell_type": "markdown",
      "id": "psaaI77vXHk9",
      "metadata": {
        "id": "psaaI77vXHk9"
      },
      "source": [
        "Using a Normalizing Flow to generate image embeddings"
      ]
    },
    {
      "cell_type": "markdown",
      "id": "233c7e79-d5e0-4684-9a34-71589234ed10",
      "metadata": {
        "id": "233c7e79-d5e0-4684-9a34-71589234ed10"
      },
      "source": [
        "# Libraries and Configuration\n",
        "\n"
      ]
    },
    {
      "cell_type": "code",
      "execution_count": 1,
      "id": "af462227-c6c5-4484-b6c9-527f3affafa8",
      "metadata": {
        "id": "af462227-c6c5-4484-b6c9-527f3affafa8"
      },
      "outputs": [],
      "source": [
        "import argparse\n",
        "import numpy as np\n",
        "from tqdm import tqdm\n",
        "from pprint import pprint\n",
        "from torchvision import datasets, transforms\n",
        "import torch\n",
        "import torch.nn.functional as F\n",
        "from torch import autograd, nn, optim\n",
        "from torch.distributions.multivariate_normal import MultivariateNormal\n",
        "from torch.nn import functional as F\n",
        "\n",
        "# --- configuration --- #\n",
        "BATCH_SIZE = 100\n",
        "INPUT_DIM = 28*28\n",
        "OUTPUT_DIM = 28*28\n",
        "N_COUPLE_LAYERS = 4\n",
        "HIDDEN_DIM = 256\n",
        "LOG_INTERVAL = 50\n",
        "EPOCHS = 200\n",
        "SAVE_PLT_INTERVAL = 5\n",
        "\n",
        "device = torch.device('cuda' if torch.cuda.is_available() else 'cpu')\n"
      ]
    },
    {
      "cell_type": "markdown",
      "id": "9b8f37be-71b9-42d5-a055-81760ca991a1",
      "metadata": {
        "id": "9b8f37be-71b9-42d5-a055-81760ca991a1"
      },
      "source": [
        "# Load dataset"
      ]
    },
    {
      "cell_type": "code",
      "execution_count": 2,
      "id": "9f0cf280-eaba-4685-92ec-53274e179329",
      "metadata": {
        "id": "9f0cf280-eaba-4685-92ec-53274e179329"
      },
      "outputs": [],
      "source": [
        "def get_mnist_data(device, batch_size):\n",
        "    preprocess = transforms.ToTensor()\n",
        "    train_loader = torch.utils.data.DataLoader(\n",
        "        datasets.MNIST('data', train=True, download=True, transform=preprocess),\n",
        "        batch_size=batch_size,\n",
        "        shuffle=True)\n",
        "    test_loader = torch.utils.data.DataLoader(\n",
        "        datasets.MNIST('data', train=False, download=True, transform=preprocess),\n",
        "        batch_size=batch_size,\n",
        "        shuffle=True)\n",
        "\n",
        "    return train_loader, test_loader"
      ]
    },
    {
      "cell_type": "code",
      "execution_count": 2,
      "id": "3XnTf9Boz3tx",
      "metadata": {
        "id": "3XnTf9Boz3tx"
      },
      "outputs": [],
      "source": []
    },
    {
      "cell_type": "markdown",
      "id": "0a8745d4",
      "metadata": {
        "id": "0a8745d4"
      },
      "source": [
        "# Base Models"
      ]
    },
    {
      "cell_type": "markdown",
      "id": "3db41efa",
      "metadata": {
        "id": "3db41efa"
      },
      "source": [
        "## CouplingLayer\n"
      ]
    },
    {
      "cell_type": "code",
      "execution_count": 3,
      "id": "hec6TKsR0Ic3",
      "metadata": {
        "id": "hec6TKsR0Ic3"
      },
      "outputs": [],
      "source": [
        "class CouplingLayer(nn.Module):\n",
        "    def __init__(self, input_dim, output_dim, hid_dim, mask):\n",
        "        super().__init__()\n",
        "        self.s_fc1 = nn.Linear(input_dim, hid_dim)\n",
        "        self.s_fc2 = nn.Linear(hid_dim, hid_dim)\n",
        "        self.s_fc3 = nn.Linear(hid_dim, output_dim)\n",
        "        self.t_fc1 = nn.Linear(input_dim, hid_dim)\n",
        "        self.t_fc2 = nn.Linear(hid_dim, hid_dim)\n",
        "        self.t_fc3 = nn.Linear(hid_dim, output_dim)\n",
        "        self.mask = mask\n",
        "\n",
        "    def forward(self, x):\n",
        "        x_m = x * self.mask\n",
        "\n",
        "        x1 = F.relu(self.s_fc1(x_m))\n",
        "        x2 = F.relu(self.s_fc2(x1))\n",
        "        x3 = F.relu(self.s_fc3(x2))\n",
        "        s_out = torch.tanh(x3)\n",
        "\n",
        "        x1_t = F.relu(self.t_fc1(x_m))\n",
        "        x2_t = F.relu(self.t_fc2(x1_t))\n",
        "        t_out = self.t_fc3(x2_t)\n",
        "\n",
        "        y = x_m + (1-self.mask)*(x*torch.exp(s_out)+t_out)\n",
        "        log_det_jacobian = s_out.sum(dim=1)\n",
        "\n",
        "        return y, log_det_jacobian\n",
        "\n",
        "    def backward(self, y):\n",
        "        y_m = y * self.mask\n",
        "\n",
        "        y1_s = F.relu(self.s_fc1(y_m))\n",
        "        y2_s = F.relu(self.s_fc2(y1_s))\n",
        "        s_out = torch.tanh(self.s_fc3(y2_s))\n",
        "\n",
        "        y1_t = F.relu(self.t_fc1(y_m))\n",
        "        y2_t = F.relu(self.t_fc2(y1_t))\n",
        "        t_out = self.t_fc3(y2_t)\n",
        "\n",
        "\n",
        "        x = y_m + (1-self.mask)*(y-t_out)*torch.exp(-s_out)\n",
        "        return x\n"
      ]
    },
    {
      "cell_type": "markdown",
      "id": "JhuCUTdK01oo",
      "metadata": {
        "id": "JhuCUTdK01oo"
      },
      "source": [
        "## RealNVP Model"
      ]
    },
    {
      "cell_type": "code",
      "execution_count": 4,
      "id": "RB0Fpti-0KwQ",
      "metadata": {
        "id": "RB0Fpti-0KwQ"
      },
      "outputs": [],
      "source": [
        "class RealNVP(nn.Module):\n",
        "    def __init__(self, input_dim, output_dim, hid_dim, mask, n_layers = 6):\n",
        "        super().__init__()\n",
        "        assert n_layers >= 2, 'num of coupling layers should be greater or equal to 2'\n",
        "\n",
        "        self.modules = []\n",
        "        self.modules.append(CouplingLayer(input_dim, output_dim, hid_dim, mask).to(device))\n",
        "        \n",
        "        for _ in range(n_layers-2):\n",
        "            mask = 1 - mask\n",
        "            self.modules.append(CouplingLayer(input_dim, output_dim, hid_dim, mask))\n",
        "\n",
        "        self.modules.append(CouplingLayer(input_dim, output_dim, hid_dim, 1 - mask))\n",
        "        self.module_list = nn.ModuleList(self.modules)\n",
        "\n",
        "    def forward(self, x):\n",
        "        ldj_sum = 0 # sum of log determinant of jacobian\n",
        "        for module in self.module_list:\n",
        "            x, ldj = module(x)\n",
        "            ldj_sum += ldj\n",
        "        return x, ldj_sum\n",
        "\n",
        "    def backward(self, z):\n",
        "        for module in reversed(self.module_list):\n",
        "            z = module.backward(z)\n",
        "        return z\n",
        "\n"
      ]
    },
    {
      "cell_type": "markdown",
      "id": "9063db87",
      "metadata": {
        "id": "9063db87"
      },
      "source": [
        "# Run model"
      ]
    },
    {
      "cell_type": "markdown",
      "id": "VkEgGjay1G0S",
      "metadata": {
        "id": "VkEgGjay1G0S"
      },
      "source": [
        "## Train"
      ]
    },
    {
      "cell_type": "code",
      "execution_count": 5,
      "id": "X_OKPDZW1DkE",
      "metadata": {
        "id": "X_OKPDZW1DkE"
      },
      "outputs": [],
      "source": [
        "def train(epoch, model, train_loader, device, optimizer, prior_z):\n",
        "  model.train()\n",
        "  train_loss = 0\n",
        "\n",
        "\n",
        "  for batch_idx, (xu, yu) in enumerate(train_loader):\n",
        "    xu = xu.reshape(xu.size(0), -1).to(device)\n",
        "    yu = yu.new(np.eye(10)[yu]).to(device).float()\n",
        "    # print(xu.shape)\n",
        "\n",
        "    optimizer.zero_grad()\n",
        "\n",
        "    z, log_det_j_sum = model(xu)\n",
        "\n",
        "    log_prob_z = prior_z.log_prob(z.cpu())\n",
        "    loss = -torch.mean((log_prob_z + log_det_j_sum.cpu()))\n",
        "\n",
        "\n",
        "    loss.backward()\n",
        "    cur_loss = loss.item()\n",
        "    train_loss += cur_loss\n",
        "    optimizer.step()\n",
        "\n",
        "  train_loss /= len(train_loader.dataset)\n",
        "\n",
        "  if epoch%20==0:\n",
        "    print('====> Epoch: {} Average loss: {:.4f}'.format(epoch, train_loss))\n",
        "\n",
        "  return train_loss, model"
      ]
    },
    {
      "cell_type": "markdown",
      "id": "u3dxXsG81Kj-",
      "metadata": {
        "id": "u3dxXsG81Kj-"
      },
      "source": [
        "## Test"
      ]
    },
    {
      "cell_type": "code",
      "execution_count": 6,
      "id": "Gs6SDCw91JRj",
      "metadata": {
        "id": "Gs6SDCw91JRj"
      },
      "outputs": [],
      "source": [
        "def test(epoch, model, test_loader, device, prior_z):\n",
        "\n",
        "\n",
        "  model.eval()\n",
        "  test_loss = 0\n",
        "\n",
        "  with torch.no_grad():\n",
        "      for batch_idx, (xu,yu) in enumerate(test_loader):\n",
        "        xu = xu.to(device).reshape(xu.size(0), -1)\n",
        "\n",
        "        yu = yu.new(np.eye(10)[yu]).to(device).float()\n",
        "\n",
        "        z, log_det_j_sum = model(xu)\n",
        "\n",
        "        log_prob_z = prior_z.log_prob(z.cpu())\n",
        "        cur_loss = -torch.mean((log_prob_z + log_det_j_sum.cpu())).item()\n",
        "\n",
        "\n",
        "        test_loss += cur_loss\n",
        "\n",
        "\n",
        "      test_loss /= len(test_loader.dataset)\n",
        "      if epoch%20==0:\n",
        "        print('====> Test set loss: {:.4f}'.format(test_loss))\n",
        "\n",
        "  return test_loss"
      ]
    },
    {
      "cell_type": "markdown",
      "id": "9RTjHoFf1YX_",
      "metadata": {
        "id": "9RTjHoFf1YX_"
      },
      "source": [
        "## Run"
      ]
    },
    {
      "cell_type": "code",
      "execution_count": 7,
      "id": "wjCa234z2THf",
      "metadata": {
        "id": "wjCa234z2THf"
      },
      "outputs": [],
      "source": [
        "train_loader, test_loader = get_mnist_data(device, BATCH_SIZE)"
      ]
    },
    {
      "cell_type": "code",
      "execution_count": 8,
      "id": "mNckBRHk2OhV",
      "metadata": {
        "id": "mNckBRHk2OhV"
      },
      "outputs": [],
      "source": [
        "zeros_half = torch.zeros((BATCH_SIZE, INPUT_DIM // 2), dtype=torch.float).to(device)\n",
        "ones_half = torch.ones((BATCH_SIZE, INPUT_DIM // 2), dtype=torch.float).to(device)\n",
        "mask = torch.cat((zeros_half, ones_half), dim=1)\n",
        "\n",
        "model = RealNVP(INPUT_DIM, OUTPUT_DIM, HIDDEN_DIM, mask, N_COUPLE_LAYERS).to(device)\n",
        "optimizer = torch.optim.Adam(model.parameters(), lr=1e-4)\n",
        "prior_z = MultivariateNormal(torch.zeros(INPUT_DIM), torch.eye(INPUT_DIM))\n"
      ]
    },
    {
      "cell_type": "code",
      "execution_count": 9,
      "id": "gIq0K4cJ1X1I",
      "metadata": {
        "colab": {
          "base_uri": "https://localhost:8080/"
        },
        "id": "gIq0K4cJ1X1I",
        "outputId": "082c4500-a92d-4a5f-c0d8-df1639605eca"
      },
      "outputs": [
        {
          "name": "stdout",
          "output_type": "stream",
          "text": [
            "====> Epoch: 20 Average loss: -20.9122\n",
            "====> Test set loss: -20.9367\n",
            "====> Epoch: 40 Average loss: -21.5706\n",
            "====> Test set loss: -21.6012\n",
            "====> Epoch: 60 Average loss: -21.8713\n",
            "====> Test set loss: -21.8720\n",
            "====> Epoch: 80 Average loss: -22.0957\n",
            "====> Test set loss: -22.1014\n",
            "====> Epoch: 100 Average loss: -22.2617\n",
            "====> Test set loss: -22.2705\n",
            "====> Epoch: 120 Average loss: -22.3780\n",
            "====> Test set loss: -22.3825\n",
            "====> Epoch: 140 Average loss: -22.4960\n",
            "====> Test set loss: -22.5028\n",
            "====> Epoch: 160 Average loss: -22.5431\n",
            "====> Test set loss: -22.5382\n",
            "====> Epoch: 180 Average loss: -22.6135\n",
            "====> Test set loss: -22.6125\n",
            "====> Epoch: 200 Average loss: -22.6622\n",
            "====> Test set loss: -22.6524\n"
          ]
        }
      ],
      "source": [
        "log_train = []\n",
        "log_test = []\n",
        "for epoch in range(1, EPOCHS + 1):\n",
        "    train_loss, trained_model = train(epoch, model, train_loader, device, optimizer, prior_z)\n",
        "    test_loss = test(epoch, model, train_loader, device, prior_z)\n",
        "    log_train.append(train_loss)\n",
        "    log_test.append(test_loss)"
      ]
    },
    {
      "cell_type": "code",
      "execution_count": 10,
      "id": "rFRebGjU1d9j",
      "metadata": {
        "colab": {
          "base_uri": "https://localhost:8080/",
          "height": 510
        },
        "id": "rFRebGjU1d9j",
        "outputId": "95475076-c169-4433-c954-001562ce71d2"
      },
      "outputs": [
        {
          "data": {
            "image/png": "[encoded data removed]",
            "text/plain": [
              "<Figure size 640x480 with 1 Axes>"
            ]
          },
          "metadata": {},
          "output_type": "display_data"
        }
      ],
      "source": [
        "import matplotlib.pyplot as plt\n",
        "\n",
        "plt.suptitle(\"Loss plot for train and validation data\", size=14)\n",
        "plt.plot(list(range(1, len(log_train)+1)), log_train, 'b', label='train errors')\n",
        "plt.plot(list(range(1, len(log_test)+1)), log_test, 'r', label='validation errors')\n",
        "plt.ylabel('Loss Average', size=12, labelpad=11)\n",
        "plt.xlabel('Epoch', size=12, labelpad=10)\n",
        "plt.legend(loc='best', fontsize=10)\n",
        "plt.grid()\n",
        "\n",
        "plt.show()"
      ]
    },
    {
      "cell_type": "markdown",
      "id": "RXUqoNh1VJxu",
      "metadata": {
        "id": "RXUqoNh1VJxu"
      },
      "source": [
        "# Sampling"
      ]
    },
    {
      "cell_type": "code",
      "execution_count": 11,
      "id": "Vb2J5JFSCdOB",
      "metadata": {
        "id": "Vb2J5JFSCdOB"
      },
      "outputs": [],
      "source": [
        "def sample_x(model, prior_z):\n",
        "    model.eval()\n",
        "    with torch.no_grad():\n",
        "        z = prior_z.sample((100,)).to(device)\n",
        "        x = model.backward(z)\n",
        "        z, x = z.cpu().detach().numpy(), x.cpu().detach().numpy()\n",
        "    return x\n"
      ]
    },
    {
      "cell_type": "code",
      "execution_count": 14,
      "id": "drYU3nYDD9oN",
      "metadata": {
        "colab": {
          "base_uri": "https://localhost:8080/",
          "height": 469
        },
        "id": "drYU3nYDD9oN",
        "outputId": "80f2c274-5625-4245-de8d-d86f99c397fb"
      },
      "outputs": [
        {
          "name": "stderr",
          "output_type": "stream",
          "text": [
            "WARNING:matplotlib.image:Clipping input data to the valid range for imshow with RGB data ([0..1] for floats or [0..255] for integers).\n"
          ]
        },
        {
          "data": {
            "image/png": "[encoded data removed]",
            "text/plain": [
              "<Figure size 640x480 with 1 Axes>"
            ]
          },
          "metadata": {},
          "output_type": "display_data"
        }
      ],
      "source": [
        "from torchvision.utils import make_grid\n",
        "from matplotlib.pyplot import imshow\n",
        "n = 16\n",
        "\n",
        "\n",
        "\n",
        "samples = (sample_x(model, prior_z)[:n, :]).reshape(n,1,28,28)\n",
        "grid = make_grid(torch.tensor(samples).cpu(), nrow=int(np.sqrt(n)))\n",
        "plt.title(str(n)+' random picture')\n",
        "imshow(grid.permute(1,2,0), cmap='gray');"
      ]
    },
    {
      "cell_type": "code",
      "execution_count": null,
      "id": "ksNlB7URvXkY",
      "metadata": {
        "id": "ksNlB7URvXkY"
      },
      "outputs": [],
      "source": []
    }
  ],
  "metadata": {
    "accelerator": "GPU",
    "colab": {
      "gpuType": "T4",
      "provenance": []
    },
    "kernelspec": {
      "display_name": "Python 3",
      "name": "python3"
    },
    "language_info": {
      "codemirror_mode": {
        "name": "ipython",
        "version": 3
      },
      "file_extension": ".py",
      "mimetype": "text/x-python",
      "name": "python",
      "nbconvert_exporter": "python",
      "pygments_lexer": "ipython3",
      "version": "3.8.12"
    }
  },
  "nbformat": 4,
  "nbformat_minor": 5
}
